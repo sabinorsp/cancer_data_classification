{
 "cells": [
  {
   "cell_type": "code",
   "execution_count": null,
   "metadata": {},
   "outputs": [],
   "source": []
  },
  {
   "cell_type": "code",
   "execution_count": null,
   "metadata": {},
   "outputs": [],
   "source": []
  },
  {
   "cell_type": "code",
   "execution_count": null,
   "metadata": {},
   "outputs": [],
   "source": []
  },
  {
   "cell_type": "code",
   "execution_count": null,
   "metadata": {},
   "outputs": [],
   "source": []
  },
  {
   "cell_type": "code",
   "execution_count": null,
   "metadata": {},
   "outputs": [],
   "source": [
    "# Print summary precision and recall\n",
    "summary_model_rf = classification_report(y_test, model_rf.predict(X_test), target_names=['B','M'])\n",
    "print(summary_model_rf)\n",
    "print(f'Accuracy: {accuracy_score(y_test, model_rf.predict(X_test))}')"
   ]
  },
  {
   "cell_type": "code",
   "execution_count": null,
   "metadata": {},
   "outputs": [],
   "source": [
    "print(f'AUC: {roc_auc_score(y_test, model_rf.predict(X_test))}')"
   ]
  },
  {
   "cell_type": "code",
   "execution_count": null,
   "metadata": {},
   "outputs": [],
   "source": [
    "print(classification_report(y_test, model_rf3.predict(X_test), target_names=['B','M']))\n",
    "print(f'AUC: {roc_auc_score(y_test, model_rf3.predict(X_test))}')\n",
    "print(f'Accuracy: {accuracy_score(y_test, model_rf3.predict(X_test))}')"
   ]
  },
  {
   "cell_type": "code",
   "execution_count": null,
   "metadata": {},
   "outputs": [],
   "source": [
    "# plot confusion matrix\n",
    "y_prev = model_rf3.predict(X_test)\n",
    "conf_mat = confusion_matrix(y_test, y_prev)\n",
    "\n",
    "# plot\n",
    "sns.heatmap(conf_mat, annot=True, cmap='Blues', fmt='g')\n",
    "plt.title('Figure 3 - Confusion Matrix')\n",
    "plt.xlabel('Predict')\n",
    "plt.ylabel('Real')\n",
    "plt.show()"
   ]
  },
  {
   "cell_type": "code",
   "execution_count": null,
   "metadata": {},
   "outputs": [],
   "source": []
  },
  {
   "cell_type": "markdown",
   "metadata": {},
   "source": [
    "# Conclusion"
   ]
  },
  {
   "cell_type": "markdown",
   "metadata": {},
   "source": [
    "Nesse caso o modelo que contém todas as caracteristicas/atributos desempenhou melhor em compração ao modelo que foi realizado uma seleção de atributos através da aplicação da técnica RandomForest para seleção dos principais atributos. \n",
    "\n",
    "Esse fator pode ser explicado pois, com a redução de caracteristicas o modelo perde complexidade, ou seja, é exposto a menores informações para o aprendizado de padrões. O método ensemble baggin no caso o RandomForest é um algorimto que pode ajustar facilmente aos dados. \n",
    "\n",
    "Portanto, para este caso, onde o conjunto de dados para treinamento e teste são pequenos, o uso de seleção de variáveis não apresenta ser viável, pois não há uma complexidade que possa provocar um ganho de tempo considerável. E como todas as caracteristicas trouxeram um desempenho melhor sem alterar praticamente nada em tempo de execução, a escolha do modelo com todas as carateristicas é o mais adequado. "
   ]
  },
  {
   "cell_type": "markdown",
   "metadata": {},
   "source": [
    "Esse trabalho teve como objetivo principal a estruturação de um padrão para um projeto de classificação. Dividindo em etapas como o processo de análise exploratória, preparação dos dados, modelagens e avalições dos modelos. Por fim o melhor modelo ficará disponível para o deploy. Para deploy do modelo será realizado um projeto em fastapi para sua implemetnação e disponibilização via web. "
   ]
  }
 ],
 "metadata": {
  "language_info": {
   "name": "python"
  },
  "orig_nbformat": 4
 },
 "nbformat": 4,
 "nbformat_minor": 2
}
