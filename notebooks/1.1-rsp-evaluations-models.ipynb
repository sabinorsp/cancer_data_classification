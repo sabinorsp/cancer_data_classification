{
 "cells": [
  {
   "attachments": {},
   "cell_type": "markdown",
   "metadata": {},
   "source": [
    "# Evaluation models"
   ]
  },
  {
   "cell_type": "code",
   "execution_count": 69,
   "metadata": {},
   "outputs": [],
   "source": [
    "import os\n",
    "import pandas as pd\n",
    "import numpy as np\n",
    "import matplotlib.pyplot as plt\n",
    "import seaborn as sns\n",
    "import joblib as jb\n",
    "\n",
    "from yellowbrick.classifier import ConfusionMatrix\n",
    "from sklearn.metrics import confusion_matrix, classification_report, roc_auc_score, accuracy_score\n",
    "\n",
    "import warnings\n",
    "warnings.filterwarnings('ignore')"
   ]
  },
  {
   "cell_type": "code",
   "execution_count": 70,
   "metadata": {},
   "outputs": [
    {
     "name": "stdout",
     "output_type": "stream",
     "text": [
      " Shape X_test_alpha:(114, 30)\n",
      " Shape X_teste_alpha_feature:(114, 9)\n",
      "\n",
      " Shape X_test_beta:(114, 24)\n",
      " Shape X_test_beta_feature(114, 7)\n"
     ]
    }
   ],
   "source": [
    "# Load data X tests to models Group Alpha: \n",
    "X_test_alpha = np.loadtxt('../data/processed/X_data/X_test.csv', delimiter=',') \n",
    "X_test_alpha_feature = np.loadtxt('../data/processed/X_data/X_test_feature.csv', delimiter=',')\n",
    "\n",
    "# Load data X tests to models Group Beta:\n",
    "X_test_beta = np.loadtxt('../data/processed/X_data2/X_test2.csv', delimiter=',') \n",
    "X_test_beta_feature = np.loadtxt('../data/processed/X_data2/X_test2_features.csv', delimiter=',') \n",
    "\n",
    "# Load data target test\n",
    "y_test = np.loadtxt('../data/processed/y_test.csv')\n",
    "\n",
    "print(\n",
    "    f' Shape X_test_alpha:{X_test_alpha.shape}\\n',\n",
    "    f'Shape X_teste_alpha_feature:{X_test_alpha_feature.shape}\\n\\n',\n",
    "    f'Shape X_test_beta:{X_test_beta.shape}\\n',\n",
    "    f'Shape X_test_beta_feature{X_test_beta_feature.shape}'\n",
    ")"
   ]
  },
  {
   "cell_type": "code",
   "execution_count": 71,
   "metadata": {},
   "outputs": [
    {
     "name": "stdout",
     "output_type": "stream",
     "text": [
      "Load model name: model_alpha_rf_feature\n",
      "Load model name: model_alpha_rf\n",
      "Load model name: model_beta_rf\n",
      "Load model name: model_alpha_svc\n",
      "Load model name: model_beta_xgb\n",
      "Load model name: model_beta_svc\n",
      "Load model name: model_beta_svc_feature\n",
      "Load model name: model_beta_rf_features\n",
      "Load model name: model_alpha_xgb_feature\n",
      "Load model name: model_alpha_xgb\n",
      "Load model name: model_alpha_svc_feature\n",
      "Load model name: model_beta_xgb_feature\n"
     ]
    }
   ],
   "source": [
    "# Load models\n",
    "model_dir = '../models/'\n",
    "models_dict = {}\n",
    "\n",
    "for model_file in os.listdir(model_dir):\n",
    "    if model_file.endswith('.pkl'):\n",
    "        model_path = os.path.join(model_dir, model_file)\n",
    "        model = jb.load(model_path)\n",
    "        model_name = model_file.split('.')[0]\n",
    "        models_dict[model_name] = model\n",
    "        print(f'Load model name: {model_name}')"
   ]
  },
  {
   "cell_type": "code",
   "execution_count": 72,
   "metadata": {},
   "outputs": [],
   "source": [
    "def summary_classification(model:str, X_test):\n",
    "    model = models_dict[model]\n",
    "    print(classification_report(y_test, model.predict(X_test), target_names=['B','M']))\n",
    "    print(f'AUC:{round(roc_auc_score(y_test, model.predict(X_test)),3)}')"
   ]
  },
  {
   "attachments": {},
   "cell_type": "markdown",
   "metadata": {},
   "source": [
    "## Summary classification (Precision, recall and F1-score)"
   ]
  },
  {
   "attachments": {},
   "cell_type": "markdown",
   "metadata": {},
   "source": [
    "### Random Forest "
   ]
  },
  {
   "attachments": {},
   "cell_type": "markdown",
   "metadata": {},
   "source": [
    "#### Group model Alpha"
   ]
  },
  {
   "cell_type": "code",
   "execution_count": 73,
   "metadata": {},
   "outputs": [
    {
     "name": "stdout",
     "output_type": "stream",
     "text": [
      "              precision    recall  f1-score   support\n",
      "\n",
      "           B       0.99      0.91      0.94        75\n",
      "           M       0.84      0.97      0.90        39\n",
      "\n",
      "    accuracy                           0.93       114\n",
      "   macro avg       0.91      0.94      0.92       114\n",
      "weighted avg       0.94      0.93      0.93       114\n",
      "\n",
      "AUC:0.941\n"
     ]
    }
   ],
   "source": [
    "# All feature:\n",
    "summary_classification('model_alpha_rf', X_test_alpha)"
   ]
  },
  {
   "cell_type": "code",
   "execution_count": 74,
   "metadata": {},
   "outputs": [
    {
     "name": "stdout",
     "output_type": "stream",
     "text": [
      "              precision    recall  f1-score   support\n",
      "\n",
      "           B       0.98      0.87      0.92        75\n",
      "           M       0.79      0.97      0.87        39\n",
      "\n",
      "    accuracy                           0.90       114\n",
      "   macro avg       0.89      0.92      0.90       114\n",
      "weighted avg       0.92      0.90      0.91       114\n",
      "\n",
      "AUC:0.921\n"
     ]
    }
   ],
   "source": [
    "# Feature seletec: \n",
    "summary_classification('model_alpha_rf_feature', X_test_alpha_feature)"
   ]
  },
  {
   "attachments": {},
   "cell_type": "markdown",
   "metadata": {},
   "source": [
    "#### Group Model Beta"
   ]
  },
  {
   "cell_type": "code",
   "execution_count": 75,
   "metadata": {},
   "outputs": [
    {
     "name": "stdout",
     "output_type": "stream",
     "text": [
      "              precision    recall  f1-score   support\n",
      "\n",
      "           B       0.99      0.92      0.95        75\n",
      "           M       0.86      0.97      0.92        39\n",
      "\n",
      "    accuracy                           0.94       114\n",
      "   macro avg       0.92      0.95      0.93       114\n",
      "weighted avg       0.94      0.94      0.94       114\n",
      "\n",
      "AUC:0.947\n"
     ]
    }
   ],
   "source": [
    "# All feature :\n",
    "summary_classification('model_beta_rf', X_test_beta)"
   ]
  },
  {
   "cell_type": "code",
   "execution_count": 76,
   "metadata": {},
   "outputs": [
    {
     "name": "stdout",
     "output_type": "stream",
     "text": [
      "              precision    recall  f1-score   support\n",
      "\n",
      "           B       0.99      0.88      0.93        75\n",
      "           M       0.81      0.97      0.88        39\n",
      "\n",
      "    accuracy                           0.91       114\n",
      "   macro avg       0.90      0.93      0.91       114\n",
      "weighted avg       0.92      0.91      0.91       114\n",
      "\n",
      "AUC:0.927\n"
     ]
    }
   ],
   "source": [
    "# Feature seleted:\n",
    "summary_classification('model_beta_rf_features', X_test_beta_feature)"
   ]
  },
  {
   "attachments": {},
   "cell_type": "markdown",
   "metadata": {},
   "source": [
    "### XGBOOSTClassifier"
   ]
  },
  {
   "attachments": {},
   "cell_type": "markdown",
   "metadata": {},
   "source": [
    "#### Group model Alpha"
   ]
  },
  {
   "cell_type": "code",
   "execution_count": 77,
   "metadata": {},
   "outputs": [
    {
     "name": "stdout",
     "output_type": "stream",
     "text": [
      "              precision    recall  f1-score   support\n",
      "\n",
      "           B       0.99      0.91      0.94        75\n",
      "           M       0.84      0.97      0.90        39\n",
      "\n",
      "    accuracy                           0.93       114\n",
      "   macro avg       0.91      0.94      0.92       114\n",
      "weighted avg       0.94      0.93      0.93       114\n",
      "\n",
      "AUC:0.941\n"
     ]
    }
   ],
   "source": [
    "# All feature: \n",
    "summary_classification('model_alpha_xgb', X_test_alpha)"
   ]
  },
  {
   "cell_type": "code",
   "execution_count": 78,
   "metadata": {},
   "outputs": [
    {
     "name": "stdout",
     "output_type": "stream",
     "text": [
      "              precision    recall  f1-score   support\n",
      "\n",
      "           B       0.99      0.88      0.93        75\n",
      "           M       0.81      0.97      0.88        39\n",
      "\n",
      "    accuracy                           0.91       114\n",
      "   macro avg       0.90      0.93      0.91       114\n",
      "weighted avg       0.92      0.91      0.91       114\n",
      "\n",
      "AUC:0.927\n"
     ]
    }
   ],
   "source": [
    "# Feature selected\n",
    "summary_classification('model_alpha_xgb_feature', X_test_alpha_feature)"
   ]
  },
  {
   "attachments": {},
   "cell_type": "markdown",
   "metadata": {},
   "source": [
    "#### Group Model Beta"
   ]
  },
  {
   "cell_type": "code",
   "execution_count": 79,
   "metadata": {},
   "outputs": [
    {
     "name": "stdout",
     "output_type": "stream",
     "text": [
      "              precision    recall  f1-score   support\n",
      "\n",
      "           B       0.99      0.92      0.95        75\n",
      "           M       0.86      0.97      0.92        39\n",
      "\n",
      "    accuracy                           0.94       114\n",
      "   macro avg       0.92      0.95      0.93       114\n",
      "weighted avg       0.94      0.94      0.94       114\n",
      "\n",
      "AUC:0.947\n"
     ]
    }
   ],
   "source": [
    "# All feature:\n",
    "summary_classification('model_beta_xgb', X_test_beta)"
   ]
  },
  {
   "cell_type": "code",
   "execution_count": 80,
   "metadata": {},
   "outputs": [
    {
     "name": "stdout",
     "output_type": "stream",
     "text": [
      "              precision    recall  f1-score   support\n",
      "\n",
      "           B       0.98      0.87      0.92        75\n",
      "           M       0.79      0.97      0.87        39\n",
      "\n",
      "    accuracy                           0.90       114\n",
      "   macro avg       0.89      0.92      0.90       114\n",
      "weighted avg       0.92      0.90      0.91       114\n",
      "\n",
      "AUC:0.921\n"
     ]
    }
   ],
   "source": [
    "# Feature selected:\n",
    "summary_classification('model_beta_xgb_feature', X_test_beta_feature)"
   ]
  },
  {
   "cell_type": "markdown",
   "metadata": {},
   "source": [
    "### SVM Classifier"
   ]
  },
  {
   "attachments": {},
   "cell_type": "markdown",
   "metadata": {},
   "source": [
    "#### Group model Alpha"
   ]
  },
  {
   "cell_type": "code",
   "execution_count": 81,
   "metadata": {},
   "outputs": [
    {
     "name": "stdout",
     "output_type": "stream",
     "text": [
      "              precision    recall  f1-score   support\n",
      "\n",
      "           B       0.99      0.92      0.95        75\n",
      "           M       0.86      0.97      0.92        39\n",
      "\n",
      "    accuracy                           0.94       114\n",
      "   macro avg       0.92      0.95      0.93       114\n",
      "weighted avg       0.94      0.94      0.94       114\n",
      "\n",
      "AUC:0.947\n"
     ]
    }
   ],
   "source": [
    "# All feature:\n",
    "summary_classification('model_alpha_svc', X_test_alpha)"
   ]
  },
  {
   "cell_type": "code",
   "execution_count": 82,
   "metadata": {},
   "outputs": [
    {
     "name": "stdout",
     "output_type": "stream",
     "text": [
      "              precision    recall  f1-score   support\n",
      "\n",
      "           B       0.99      0.89      0.94        75\n",
      "           M       0.83      0.97      0.89        39\n",
      "\n",
      "    accuracy                           0.92       114\n",
      "   macro avg       0.91      0.93      0.92       114\n",
      "weighted avg       0.93      0.92      0.92       114\n",
      "\n",
      "AUC:0.934\n"
     ]
    }
   ],
   "source": [
    "# Feature selected:\n",
    "summary_classification('model_alpha_svc_feature',X_test_alpha_feature)"
   ]
  },
  {
   "attachments": {},
   "cell_type": "markdown",
   "metadata": {},
   "source": [
    "#### Group model Beta"
   ]
  },
  {
   "cell_type": "code",
   "execution_count": 83,
   "metadata": {},
   "outputs": [
    {
     "name": "stdout",
     "output_type": "stream",
     "text": [
      "              precision    recall  f1-score   support\n",
      "\n",
      "           B       0.99      0.91      0.94        75\n",
      "           M       0.84      0.97      0.90        39\n",
      "\n",
      "    accuracy                           0.93       114\n",
      "   macro avg       0.91      0.94      0.92       114\n",
      "weighted avg       0.94      0.93      0.93       114\n",
      "\n",
      "AUC:0.941\n"
     ]
    }
   ],
   "source": [
    "# All feature: \n",
    "summary_classification('model_beta_svc', X_test_beta)"
   ]
  },
  {
   "cell_type": "code",
   "execution_count": 84,
   "metadata": {},
   "outputs": [
    {
     "name": "stdout",
     "output_type": "stream",
     "text": [
      "              precision    recall  f1-score   support\n",
      "\n",
      "           B       0.99      0.88      0.93        75\n",
      "           M       0.81      0.97      0.88        39\n",
      "\n",
      "    accuracy                           0.91       114\n",
      "   macro avg       0.90      0.93      0.91       114\n",
      "weighted avg       0.92      0.91      0.91       114\n",
      "\n",
      "AUC:0.927\n"
     ]
    }
   ],
   "source": [
    "# Feature selected:\n",
    "summary_classification('model_beta_svc_feature', X_test_beta_feature)"
   ]
  },
  {
   "cell_type": "code",
   "execution_count": 85,
   "metadata": {},
   "outputs": [
    {
     "ename": "NameError",
     "evalue": "name 'model_rf3' is not defined",
     "output_type": "error",
     "traceback": [
      "\u001b[0;31m---------------------------------------------------------------------------\u001b[0m",
      "\u001b[0;31mNameError\u001b[0m                                 Traceback (most recent call last)",
      "Cell \u001b[0;32mIn[85], line 2\u001b[0m\n\u001b[1;32m      1\u001b[0m \u001b[39m# plot confusion matrix\u001b[39;00m\n\u001b[0;32m----> 2\u001b[0m y_prev \u001b[39m=\u001b[39m model_rf3\u001b[39m.\u001b[39mpredict(X_test)\n\u001b[1;32m      3\u001b[0m conf_mat \u001b[39m=\u001b[39m confusion_matrix(y_test, y_prev)\n\u001b[1;32m      5\u001b[0m \u001b[39m# plot\u001b[39;00m\n",
      "\u001b[0;31mNameError\u001b[0m: name 'model_rf3' is not defined"
     ]
    }
   ],
   "source": [
    "# plot confusion matrix\n",
    "y_prev = model_rf3.predict(X_test)\n",
    "conf_mat = confusion_matrix(y_test, y_prev)\n",
    "\n",
    "# plot\n",
    "sns.heatmap(conf_mat, annot=True, cmap='Blues', fmt='g')\n",
    "plt.title('Figure 3 - Confusion Matrix')\n",
    "plt.xlabel('Predict')\n",
    "plt.ylabel('Real')\n",
    "plt.show()"
   ]
  },
  {
   "cell_type": "code",
   "execution_count": null,
   "metadata": {},
   "outputs": [],
   "source": []
  },
  {
   "cell_type": "code",
   "execution_count": null,
   "metadata": {},
   "outputs": [],
   "source": []
  },
  {
   "cell_type": "markdown",
   "metadata": {},
   "source": [
    "# Conclusion"
   ]
  },
  {
   "cell_type": "markdown",
   "metadata": {},
   "source": [
    "Nesse caso o modelo que contém todas as caracteristicas/atributos desempenhou melhor em compração ao modelo que foi realizado uma seleção de atributos através da aplicação da técnica RandomForest para seleção dos principais atributos. \n",
    "\n",
    "Esse fator pode ser explicado pois, com a redução de caracteristicas o modelo perde complexidade, ou seja, é exposto a menores informações para o aprendizado de padrões. O método ensemble baggin no caso o RandomForest é um algorimto que pode ajustar facilmente aos dados. \n",
    "\n",
    "Portanto, para este caso, onde o conjunto de dados para treinamento e teste são pequenos, o uso de seleção de variáveis não apresenta ser viável, pois não há uma complexidade que possa provocar um ganho de tempo considerável. E como todas as caracteristicas trouxeram um desempenho melhor sem alterar praticamente nada em tempo de execução, a escolha do modelo com todas as carateristicas é o mais adequado. "
   ]
  },
  {
   "cell_type": "markdown",
   "metadata": {},
   "source": [
    "Esse trabalho teve como objetivo principal a estruturação de um padrão para um projeto de classificação. Dividindo em etapas como o processo de análise exploratória, preparação dos dados, modelagens e avalições dos modelos. Por fim o melhor modelo ficará disponível para o deploy. Para deploy do modelo será realizado um projeto em fastapi para sua implemetnação e disponibilização via web. "
   ]
  }
 ],
 "metadata": {
  "kernelspec": {
   "display_name": "env",
   "language": "python",
   "name": "python3"
  },
  "language_info": {
   "codemirror_mode": {
    "name": "ipython",
    "version": 3
   },
   "file_extension": ".py",
   "mimetype": "text/x-python",
   "name": "python",
   "nbconvert_exporter": "python",
   "pygments_lexer": "ipython3",
   "version": "3.9.7"
  },
  "orig_nbformat": 4
 },
 "nbformat": 4,
 "nbformat_minor": 2
}
