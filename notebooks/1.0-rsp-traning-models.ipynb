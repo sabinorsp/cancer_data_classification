{
 "cells": [
  {
   "cell_type": "markdown",
   "id": "2a3d9c8b",
   "metadata": {},
   "source": [
    "# Models"
   ]
  },
  {
   "cell_type": "code",
   "execution_count": 4,
   "id": "c92c1b5a",
   "metadata": {
    "ExecuteTime": {
     "end_time": "2023-04-21T19:49:21.588887Z",
     "start_time": "2023-04-21T19:49:20.284860Z"
    }
   },
   "outputs": [],
   "source": [
    "# import packages\n",
    "import pandas as pd\n",
    "import numpy as np\n",
    "import matplotlib.pyplot as plt\n",
    "import seaborn as sns\n",
    "import joblib\n",
    "\n",
    "from yellowbrick.classifier import ConfusionMatrix\n",
    "from sklearn.preprocessing import StandardScaler\n",
    "from sklearn.model_selection import train_test_split\n",
    "from sklearn.feature_selection import SelectFromModel\n",
    "from sklearn.metrics import confusion_matrix, classification_report, roc_auc_score, accuracy_score\n",
    "\n",
    "from sklearn.model_selection import GridSearchCV\n",
    "from sklearn.model_selection import cross_val_score, KFold\n",
    "\n",
    "from sklearn.ensemble import RandomForestClassifier\n",
    "from sklearn.naive_bayes import MultinomialNB\n",
    "from sklearn.linear_model import LogisticRegression\n",
    "from sklearn.neighbors import KNeighborsClassifier\n",
    "from sklearn.svm import SVC\n",
    "\n",
    "import xgboost as xgb \n",
    "\n",
    "import warnings\n",
    "warnings.filterwarnings('ignore')"
   ]
  },
  {
   "cell_type": "markdown",
   "id": "a8046d35",
   "metadata": {},
   "source": [
    "## Model ( Feature Selected)"
   ]
  },
  {
   "cell_type": "code",
   "execution_count": 5,
   "id": "761df2b7",
   "metadata": {
    "ExecuteTime": {
     "end_time": "2023-04-21T19:49:21.644524Z",
     "start_time": "2023-04-21T19:49:21.591344Z"
    }
   },
   "outputs": [],
   "source": [
    "# Import data training and testing\n",
    "X_train = np.loadtxt('../data/processed/X_train_feature.csv', delimiter=',') \n",
    "X_test = np.loadtxt('../data/processed/X_test_feature.csv', delimiter=',')\n",
    "\n",
    "y_train = np.loadtxt('../data/processed/y_train.csv', delimiter=',')\n",
    "y_test = np.loadtxt('../data/processed/y_test.csv', delimiter=',')"
   ]
  },
  {
   "cell_type": "markdown",
   "id": "32ef962f",
   "metadata": {},
   "source": [
    "### Selecting model\n",
    "Objeticve to this topic are create 5 default models of classifications and using the cross validation to verify the model that have a best AUC and standard deviations for this data. "
   ]
  },
  {
   "cell_type": "code",
   "execution_count": 6,
   "id": "aad205eb",
   "metadata": {
    "ExecuteTime": {
     "end_time": "2023-04-21T19:49:21.694081Z",
     "start_time": "2023-04-21T19:49:21.645893Z"
    }
   },
   "outputs": [],
   "source": [
    "models = [RandomForestClassifier, \n",
    "          MultinomialNB, \n",
    "          LogisticRegression,\n",
    "          KNeighborsClassifier,\n",
    "          xgb.XGBClassifier,\n",
    "          SVC]"
   ]
  },
  {
   "cell_type": "code",
   "execution_count": 7,
   "id": "3a9804f4",
   "metadata": {
    "ExecuteTime": {
     "end_time": "2023-04-21T19:49:24.289887Z",
     "start_time": "2023-04-21T19:49:21.696278Z"
    }
   },
   "outputs": [
    {
     "name": "stdout",
     "output_type": "stream",
     "text": [
      "RandomForestClassifier AUC: 0.984 STD: 0.02\n",
      "MultinomialNB          AUC: 0.852 STD: 0.07\n",
      "LogisticRegression     AUC: 0.986 STD: 0.02\n",
      "KNeighborsClassifier   AUC: 0.976 STD: 0.02\n",
      "XGBClassifier          AUC: 0.982 STD: 0.02\n",
      "SVC                    AUC: 0.986 STD: 0.02\n"
     ]
    }
   ],
   "source": [
    "for model in models:\n",
    "    cls = model()\n",
    "    kfold = KFold(n_splits=10, random_state=42, shuffle=True)\n",
    "    s = cross_val_score(cls, X_train, y_train, scoring='roc_auc', cv=kfold)\n",
    "    print(f\"{model.__name__:22} AUC: \"\n",
    "          f\"{s.mean():.3f} STD: {s.std():.2f}\")"
   ]
  },
  {
   "cell_type": "markdown",
   "id": "8d188f7a",
   "metadata": {},
   "source": [
    "In this case, I'll select the RandonForest to construct and optmize the final model. "
   ]
  },
  {
   "cell_type": "markdown",
   "id": "9e2f3102",
   "metadata": {},
   "source": [
    "### Training the model "
   ]
  },
  {
   "cell_type": "code",
   "execution_count": 8,
   "id": "6b3cba1a",
   "metadata": {
    "ExecuteTime": {
     "end_time": "2023-04-21T19:49:24.486280Z",
     "start_time": "2023-04-21T19:49:24.292325Z"
    }
   },
   "outputs": [
    {
     "data": {
      "text/html": [
       "<style>#sk-container-id-1 {color: black;background-color: white;}#sk-container-id-1 pre{padding: 0;}#sk-container-id-1 div.sk-toggleable {background-color: white;}#sk-container-id-1 label.sk-toggleable__label {cursor: pointer;display: block;width: 100%;margin-bottom: 0;padding: 0.3em;box-sizing: border-box;text-align: center;}#sk-container-id-1 label.sk-toggleable__label-arrow:before {content: \"▸\";float: left;margin-right: 0.25em;color: #696969;}#sk-container-id-1 label.sk-toggleable__label-arrow:hover:before {color: black;}#sk-container-id-1 div.sk-estimator:hover label.sk-toggleable__label-arrow:before {color: black;}#sk-container-id-1 div.sk-toggleable__content {max-height: 0;max-width: 0;overflow: hidden;text-align: left;background-color: #f0f8ff;}#sk-container-id-1 div.sk-toggleable__content pre {margin: 0.2em;color: black;border-radius: 0.25em;background-color: #f0f8ff;}#sk-container-id-1 input.sk-toggleable__control:checked~div.sk-toggleable__content {max-height: 200px;max-width: 100%;overflow: auto;}#sk-container-id-1 input.sk-toggleable__control:checked~label.sk-toggleable__label-arrow:before {content: \"▾\";}#sk-container-id-1 div.sk-estimator input.sk-toggleable__control:checked~label.sk-toggleable__label {background-color: #d4ebff;}#sk-container-id-1 div.sk-label input.sk-toggleable__control:checked~label.sk-toggleable__label {background-color: #d4ebff;}#sk-container-id-1 input.sk-hidden--visually {border: 0;clip: rect(1px 1px 1px 1px);clip: rect(1px, 1px, 1px, 1px);height: 1px;margin: -1px;overflow: hidden;padding: 0;position: absolute;width: 1px;}#sk-container-id-1 div.sk-estimator {font-family: monospace;background-color: #f0f8ff;border: 1px dotted black;border-radius: 0.25em;box-sizing: border-box;margin-bottom: 0.5em;}#sk-container-id-1 div.sk-estimator:hover {background-color: #d4ebff;}#sk-container-id-1 div.sk-parallel-item::after {content: \"\";width: 100%;border-bottom: 1px solid gray;flex-grow: 1;}#sk-container-id-1 div.sk-label:hover label.sk-toggleable__label {background-color: #d4ebff;}#sk-container-id-1 div.sk-serial::before {content: \"\";position: absolute;border-left: 1px solid gray;box-sizing: border-box;top: 0;bottom: 0;left: 50%;z-index: 0;}#sk-container-id-1 div.sk-serial {display: flex;flex-direction: column;align-items: center;background-color: white;padding-right: 0.2em;padding-left: 0.2em;position: relative;}#sk-container-id-1 div.sk-item {position: relative;z-index: 1;}#sk-container-id-1 div.sk-parallel {display: flex;align-items: stretch;justify-content: center;background-color: white;position: relative;}#sk-container-id-1 div.sk-item::before, #sk-container-id-1 div.sk-parallel-item::before {content: \"\";position: absolute;border-left: 1px solid gray;box-sizing: border-box;top: 0;bottom: 0;left: 50%;z-index: -1;}#sk-container-id-1 div.sk-parallel-item {display: flex;flex-direction: column;z-index: 1;position: relative;background-color: white;}#sk-container-id-1 div.sk-parallel-item:first-child::after {align-self: flex-end;width: 50%;}#sk-container-id-1 div.sk-parallel-item:last-child::after {align-self: flex-start;width: 50%;}#sk-container-id-1 div.sk-parallel-item:only-child::after {width: 0;}#sk-container-id-1 div.sk-dashed-wrapped {border: 1px dashed gray;margin: 0 0.4em 0.5em 0.4em;box-sizing: border-box;padding-bottom: 0.4em;background-color: white;}#sk-container-id-1 div.sk-label label {font-family: monospace;font-weight: bold;display: inline-block;line-height: 1.2em;}#sk-container-id-1 div.sk-label-container {text-align: center;}#sk-container-id-1 div.sk-container {/* jupyter's `normalize.less` sets `[hidden] { display: none; }` but bootstrap.min.css set `[hidden] { display: none !important; }` so we also need the `!important` here to be able to override the default hidden behavior on the sphinx rendered scikit-learn.org. See: https://github.com/scikit-learn/scikit-learn/issues/21755 */display: inline-block !important;position: relative;}#sk-container-id-1 div.sk-text-repr-fallback {display: none;}</style><div id=\"sk-container-id-1\" class=\"sk-top-container\"><div class=\"sk-text-repr-fallback\"><pre>RandomForestClassifier()</pre><b>In a Jupyter environment, please rerun this cell to show the HTML representation or trust the notebook. <br />On GitHub, the HTML representation is unable to render, please try loading this page with nbviewer.org.</b></div><div class=\"sk-container\" hidden><div class=\"sk-item\"><div class=\"sk-estimator sk-toggleable\"><input class=\"sk-toggleable__control sk-hidden--visually\" id=\"sk-estimator-id-1\" type=\"checkbox\" checked><label for=\"sk-estimator-id-1\" class=\"sk-toggleable__label sk-toggleable__label-arrow\">RandomForestClassifier</label><div class=\"sk-toggleable__content\"><pre>RandomForestClassifier()</pre></div></div></div></div></div>"
      ],
      "text/plain": [
       "RandomForestClassifier()"
      ]
     },
     "execution_count": 8,
     "metadata": {},
     "output_type": "execute_result"
    }
   ],
   "source": [
    "model_rf = RandomForestClassifier()\n",
    "model_rf.fit(X_train, y_train)"
   ]
  },
  {
   "cell_type": "code",
   "execution_count": 9,
   "id": "673d307d",
   "metadata": {
    "ExecuteTime": {
     "end_time": "2023-04-21T19:49:24.530610Z",
     "start_time": "2023-04-21T19:49:24.487725Z"
    }
   },
   "outputs": [
    {
     "name": "stdout",
     "output_type": "stream",
     "text": [
      "              precision    recall  f1-score   support\n",
      "\n",
      "           B       0.98      0.87      0.92        75\n",
      "           M       0.79      0.97      0.87        39\n",
      "\n",
      "    accuracy                           0.90       114\n",
      "   macro avg       0.89      0.92      0.90       114\n",
      "weighted avg       0.92      0.90      0.91       114\n",
      "\n",
      "Accuracy: 0.9035087719298246\n"
     ]
    }
   ],
   "source": [
    "# Print summary precision and recall\n",
    "summary_model_rf = classification_report(y_test, model_rf.predict(X_test), target_names=['B','M'])\n",
    "print(summary_model_rf)\n",
    "print(f'Accuracy: {accuracy_score(y_test, model_rf.predict(X_test))}')"
   ]
  },
  {
   "cell_type": "code",
   "execution_count": 10,
   "id": "da51aa3c",
   "metadata": {
    "ExecuteTime": {
     "end_time": "2023-04-21T19:49:24.587195Z",
     "start_time": "2023-04-21T19:49:24.532600Z"
    }
   },
   "outputs": [
    {
     "name": "stdout",
     "output_type": "stream",
     "text": [
      "AUC: 0.9205128205128206\n"
     ]
    }
   ],
   "source": [
    "print(f'AUC: {roc_auc_score(y_test, model_rf.predict(X_test))}')"
   ]
  },
  {
   "cell_type": "markdown",
   "id": "d9b079f5",
   "metadata": {},
   "source": [
    "### Optimize the params\n",
    "* I'll use GridSearch to construct severals models and select the best params. "
   ]
  },
  {
   "cell_type": "code",
   "execution_count": 11,
   "id": "da223079",
   "metadata": {
    "ExecuteTime": {
     "end_time": "2023-04-21T19:49:24.644870Z",
     "start_time": "2023-04-21T19:49:24.588965Z"
    }
   },
   "outputs": [],
   "source": [
    "params = {\n",
    "    'n_estimators': [100, 200, 300],\n",
    "    'criterion': ['gini', 'entropy'],\n",
    "    'max_features': ['sqrt', 'log2'],\n",
    "}\n",
    "\n",
    "model_rf2 = RandomForestClassifier()"
   ]
  },
  {
   "cell_type": "code",
   "execution_count": 12,
   "id": "368f2294",
   "metadata": {
    "ExecuteTime": {
     "end_time": "2023-04-21T19:49:31.006759Z",
     "start_time": "2023-04-21T19:49:24.647548Z"
    }
   },
   "outputs": [
    {
     "name": "stdout",
     "output_type": "stream",
     "text": [
      "{'criterion': 'entropy', 'max_features': 'log2', 'n_estimators': 100}\n"
     ]
    }
   ],
   "source": [
    "cv = GridSearchCV(model_rf2, params, n_jobs=-1, scoring='roc_auc').fit(X_train, y_train)\n",
    "print(cv.best_params_)"
   ]
  },
  {
   "cell_type": "code",
   "execution_count": 13,
   "id": "6d7efecd",
   "metadata": {
    "ExecuteTime": {
     "end_time": "2023-04-21T19:49:31.553029Z",
     "start_time": "2023-04-21T19:49:31.009808Z"
    }
   },
   "outputs": [
    {
     "data": {
      "text/html": [
       "<style>#sk-container-id-2 {color: black;background-color: white;}#sk-container-id-2 pre{padding: 0;}#sk-container-id-2 div.sk-toggleable {background-color: white;}#sk-container-id-2 label.sk-toggleable__label {cursor: pointer;display: block;width: 100%;margin-bottom: 0;padding: 0.3em;box-sizing: border-box;text-align: center;}#sk-container-id-2 label.sk-toggleable__label-arrow:before {content: \"▸\";float: left;margin-right: 0.25em;color: #696969;}#sk-container-id-2 label.sk-toggleable__label-arrow:hover:before {color: black;}#sk-container-id-2 div.sk-estimator:hover label.sk-toggleable__label-arrow:before {color: black;}#sk-container-id-2 div.sk-toggleable__content {max-height: 0;max-width: 0;overflow: hidden;text-align: left;background-color: #f0f8ff;}#sk-container-id-2 div.sk-toggleable__content pre {margin: 0.2em;color: black;border-radius: 0.25em;background-color: #f0f8ff;}#sk-container-id-2 input.sk-toggleable__control:checked~div.sk-toggleable__content {max-height: 200px;max-width: 100%;overflow: auto;}#sk-container-id-2 input.sk-toggleable__control:checked~label.sk-toggleable__label-arrow:before {content: \"▾\";}#sk-container-id-2 div.sk-estimator input.sk-toggleable__control:checked~label.sk-toggleable__label {background-color: #d4ebff;}#sk-container-id-2 div.sk-label input.sk-toggleable__control:checked~label.sk-toggleable__label {background-color: #d4ebff;}#sk-container-id-2 input.sk-hidden--visually {border: 0;clip: rect(1px 1px 1px 1px);clip: rect(1px, 1px, 1px, 1px);height: 1px;margin: -1px;overflow: hidden;padding: 0;position: absolute;width: 1px;}#sk-container-id-2 div.sk-estimator {font-family: monospace;background-color: #f0f8ff;border: 1px dotted black;border-radius: 0.25em;box-sizing: border-box;margin-bottom: 0.5em;}#sk-container-id-2 div.sk-estimator:hover {background-color: #d4ebff;}#sk-container-id-2 div.sk-parallel-item::after {content: \"\";width: 100%;border-bottom: 1px solid gray;flex-grow: 1;}#sk-container-id-2 div.sk-label:hover label.sk-toggleable__label {background-color: #d4ebff;}#sk-container-id-2 div.sk-serial::before {content: \"\";position: absolute;border-left: 1px solid gray;box-sizing: border-box;top: 0;bottom: 0;left: 50%;z-index: 0;}#sk-container-id-2 div.sk-serial {display: flex;flex-direction: column;align-items: center;background-color: white;padding-right: 0.2em;padding-left: 0.2em;position: relative;}#sk-container-id-2 div.sk-item {position: relative;z-index: 1;}#sk-container-id-2 div.sk-parallel {display: flex;align-items: stretch;justify-content: center;background-color: white;position: relative;}#sk-container-id-2 div.sk-item::before, #sk-container-id-2 div.sk-parallel-item::before {content: \"\";position: absolute;border-left: 1px solid gray;box-sizing: border-box;top: 0;bottom: 0;left: 50%;z-index: -1;}#sk-container-id-2 div.sk-parallel-item {display: flex;flex-direction: column;z-index: 1;position: relative;background-color: white;}#sk-container-id-2 div.sk-parallel-item:first-child::after {align-self: flex-end;width: 50%;}#sk-container-id-2 div.sk-parallel-item:last-child::after {align-self: flex-start;width: 50%;}#sk-container-id-2 div.sk-parallel-item:only-child::after {width: 0;}#sk-container-id-2 div.sk-dashed-wrapped {border: 1px dashed gray;margin: 0 0.4em 0.5em 0.4em;box-sizing: border-box;padding-bottom: 0.4em;background-color: white;}#sk-container-id-2 div.sk-label label {font-family: monospace;font-weight: bold;display: inline-block;line-height: 1.2em;}#sk-container-id-2 div.sk-label-container {text-align: center;}#sk-container-id-2 div.sk-container {/* jupyter's `normalize.less` sets `[hidden] { display: none; }` but bootstrap.min.css set `[hidden] { display: none !important; }` so we also need the `!important` here to be able to override the default hidden behavior on the sphinx rendered scikit-learn.org. See: https://github.com/scikit-learn/scikit-learn/issues/21755 */display: inline-block !important;position: relative;}#sk-container-id-2 div.sk-text-repr-fallback {display: none;}</style><div id=\"sk-container-id-2\" class=\"sk-top-container\"><div class=\"sk-text-repr-fallback\"><pre>RandomForestClassifier(criterion=&#x27;entropy&#x27;, max_features=&#x27;log2&#x27;)</pre><b>In a Jupyter environment, please rerun this cell to show the HTML representation or trust the notebook. <br />On GitHub, the HTML representation is unable to render, please try loading this page with nbviewer.org.</b></div><div class=\"sk-container\" hidden><div class=\"sk-item\"><div class=\"sk-estimator sk-toggleable\"><input class=\"sk-toggleable__control sk-hidden--visually\" id=\"sk-estimator-id-2\" type=\"checkbox\" checked><label for=\"sk-estimator-id-2\" class=\"sk-toggleable__label sk-toggleable__label-arrow\">RandomForestClassifier</label><div class=\"sk-toggleable__content\"><pre>RandomForestClassifier(criterion=&#x27;entropy&#x27;, max_features=&#x27;log2&#x27;)</pre></div></div></div></div></div>"
      ],
      "text/plain": [
       "RandomForestClassifier(criterion='entropy', max_features='log2')"
      ]
     },
     "execution_count": 13,
     "metadata": {},
     "output_type": "execute_result"
    }
   ],
   "source": [
    "model_rf3 = RandomForestClassifier(**cv.best_params_)\n",
    "model_rf3.fit(X_train, y_train)"
   ]
  },
  {
   "cell_type": "markdown",
   "id": "6ff103b5",
   "metadata": {
    "heading_collapsed": true
   },
   "source": [
    "### Evaluation"
   ]
  },
  {
   "cell_type": "code",
   "execution_count": 14,
   "id": "1211154a",
   "metadata": {
    "ExecuteTime": {
     "end_time": "2023-04-21T19:49:31.680527Z",
     "start_time": "2023-04-21T19:49:31.555169Z"
    },
    "hidden": true
   },
   "outputs": [
    {
     "name": "stdout",
     "output_type": "stream",
     "text": [
      "              precision    recall  f1-score   support\n",
      "\n",
      "           B       0.99      0.88      0.93        75\n",
      "           M       0.81      0.97      0.88        39\n",
      "\n",
      "    accuracy                           0.91       114\n",
      "   macro avg       0.90      0.93      0.91       114\n",
      "weighted avg       0.92      0.91      0.91       114\n",
      "\n",
      "AUC: 0.9271794871794872\n",
      "Accuracy: 0.9122807017543859\n"
     ]
    }
   ],
   "source": [
    "print(classification_report(y_test, model_rf3.predict(X_test), target_names=['B','M']))\n",
    "print(f'AUC: {roc_auc_score(y_test, model_rf3.predict(X_test))}')\n",
    "print(f'Accuracy: {accuracy_score(y_test, model_rf3.predict(X_test))}')"
   ]
  },
  {
   "cell_type": "markdown",
   "id": "638cabfb",
   "metadata": {
    "hidden": true
   },
   "source": [
    "* We can note that don't have significant difference AUC about default and optmize model. "
   ]
  },
  {
   "cell_type": "code",
   "execution_count": 15,
   "id": "ca78ef42",
   "metadata": {
    "ExecuteTime": {
     "end_time": "2023-04-21T19:49:31.946776Z",
     "start_time": "2023-04-21T19:49:31.682241Z"
    },
    "hidden": true,
    "scrolled": true
   },
   "outputs": [
    {
     "data": {
      "image/png": "[encoded data removed]",
      "text/plain": [
       "<Figure size 800x550 with 2 Axes>"
      ]
     },
     "metadata": {},
     "output_type": "display_data"
    }
   ],
   "source": [
    "# plot confusion matrix\n",
    "y_prev = model_rf3.predict(X_test)\n",
    "conf_mat = confusion_matrix(y_test, y_prev)\n",
    "\n",
    "# plot\n",
    "sns.heatmap(conf_mat, annot=True, cmap='Blues', fmt='g')\n",
    "plt.title('Figure 3 - Confusion Matrix')\n",
    "plt.xlabel('Predict')\n",
    "plt.ylabel('Real')\n",
    "plt.show()"
   ]
  },
  {
   "cell_type": "markdown",
   "id": "e288b0bc",
   "metadata": {},
   "source": [
    "### Saving the model\n"
   ]
  },
  {
   "cell_type": "code",
   "execution_count": 16,
   "id": "323cf54b",
   "metadata": {
    "ExecuteTime": {
     "end_time": "2023-04-21T19:49:32.107694Z",
     "start_time": "2023-04-21T19:49:31.948965Z"
    }
   },
   "outputs": [
    {
     "data": {
      "text/plain": [
       "['../models/model_rf3_feature.pkl']"
      ]
     },
     "execution_count": 16,
     "metadata": {},
     "output_type": "execute_result"
    }
   ],
   "source": [
    "joblib.dump(model_rf3, '../models/model_rf3_feature.pkl')"
   ]
  },
  {
   "cell_type": "markdown",
   "id": "2cd93f4d",
   "metadata": {},
   "source": [
    "## Model with all feature"
   ]
  },
  {
   "cell_type": "code",
   "execution_count": 17,
   "id": "03cfeb0f",
   "metadata": {
    "ExecuteTime": {
     "end_time": "2023-04-21T19:49:32.161601Z",
     "start_time": "2023-04-21T19:49:32.110660Z"
    }
   },
   "outputs": [],
   "source": [
    "# Import data\n",
    "X_train = np.loadtxt('../data/processed/X_train_all.csv', delimiter=',') \n",
    "X_test = np.loadtxt('../data/processed/X_test_all.csv', delimiter=',')"
   ]
  },
  {
   "cell_type": "code",
   "execution_count": 18,
   "id": "c2193a1a",
   "metadata": {
    "ExecuteTime": {
     "end_time": "2023-04-21T19:56:40.200642Z",
     "start_time": "2023-04-21T19:56:40.195923Z"
    }
   },
   "outputs": [],
   "source": [
    "params = {\n",
    "    'n_estimators': [100, 200, 300],\n",
    "    'criterion': ['gini', 'entropy'],\n",
    "    'max_features': ['sqrt', 'log2'],\n",
    "}\n",
    "\n",
    "model_rf4 = RandomForestClassifier()"
   ]
  },
  {
   "cell_type": "code",
   "execution_count": 19,
   "id": "948c1e0d",
   "metadata": {
    "ExecuteTime": {
     "end_time": "2023-04-21T19:57:02.567691Z",
     "start_time": "2023-04-21T19:56:56.275793Z"
    }
   },
   "outputs": [
    {
     "name": "stdout",
     "output_type": "stream",
     "text": [
      "{'criterion': 'entropy', 'max_features': 'sqrt', 'n_estimators': 300}\n"
     ]
    }
   ],
   "source": [
    "cv = GridSearchCV(model_rf4, params, n_jobs=-1, scoring='roc_auc').fit(X_train, y_train)\n",
    "print(cv.best_params_)"
   ]
  },
  {
   "cell_type": "code",
   "execution_count": 20,
   "id": "8a27899c",
   "metadata": {
    "ExecuteTime": {
     "end_time": "2023-04-21T19:57:22.554910Z",
     "start_time": "2023-04-21T19:57:22.348067Z"
    }
   },
   "outputs": [
    {
     "data": {
      "text/html": [
       "<style>#sk-container-id-3 {color: black;background-color: white;}#sk-container-id-3 pre{padding: 0;}#sk-container-id-3 div.sk-toggleable {background-color: white;}#sk-container-id-3 label.sk-toggleable__label {cursor: pointer;display: block;width: 100%;margin-bottom: 0;padding: 0.3em;box-sizing: border-box;text-align: center;}#sk-container-id-3 label.sk-toggleable__label-arrow:before {content: \"▸\";float: left;margin-right: 0.25em;color: #696969;}#sk-container-id-3 label.sk-toggleable__label-arrow:hover:before {color: black;}#sk-container-id-3 div.sk-estimator:hover label.sk-toggleable__label-arrow:before {color: black;}#sk-container-id-3 div.sk-toggleable__content {max-height: 0;max-width: 0;overflow: hidden;text-align: left;background-color: #f0f8ff;}#sk-container-id-3 div.sk-toggleable__content pre {margin: 0.2em;color: black;border-radius: 0.25em;background-color: #f0f8ff;}#sk-container-id-3 input.sk-toggleable__control:checked~div.sk-toggleable__content {max-height: 200px;max-width: 100%;overflow: auto;}#sk-container-id-3 input.sk-toggleable__control:checked~label.sk-toggleable__label-arrow:before {content: \"▾\";}#sk-container-id-3 div.sk-estimator input.sk-toggleable__control:checked~label.sk-toggleable__label {background-color: #d4ebff;}#sk-container-id-3 div.sk-label input.sk-toggleable__control:checked~label.sk-toggleable__label {background-color: #d4ebff;}#sk-container-id-3 input.sk-hidden--visually {border: 0;clip: rect(1px 1px 1px 1px);clip: rect(1px, 1px, 1px, 1px);height: 1px;margin: -1px;overflow: hidden;padding: 0;position: absolute;width: 1px;}#sk-container-id-3 div.sk-estimator {font-family: monospace;background-color: #f0f8ff;border: 1px dotted black;border-radius: 0.25em;box-sizing: border-box;margin-bottom: 0.5em;}#sk-container-id-3 div.sk-estimator:hover {background-color: #d4ebff;}#sk-container-id-3 div.sk-parallel-item::after {content: \"\";width: 100%;border-bottom: 1px solid gray;flex-grow: 1;}#sk-container-id-3 div.sk-label:hover label.sk-toggleable__label {background-color: #d4ebff;}#sk-container-id-3 div.sk-serial::before {content: \"\";position: absolute;border-left: 1px solid gray;box-sizing: border-box;top: 0;bottom: 0;left: 50%;z-index: 0;}#sk-container-id-3 div.sk-serial {display: flex;flex-direction: column;align-items: center;background-color: white;padding-right: 0.2em;padding-left: 0.2em;position: relative;}#sk-container-id-3 div.sk-item {position: relative;z-index: 1;}#sk-container-id-3 div.sk-parallel {display: flex;align-items: stretch;justify-content: center;background-color: white;position: relative;}#sk-container-id-3 div.sk-item::before, #sk-container-id-3 div.sk-parallel-item::before {content: \"\";position: absolute;border-left: 1px solid gray;box-sizing: border-box;top: 0;bottom: 0;left: 50%;z-index: -1;}#sk-container-id-3 div.sk-parallel-item {display: flex;flex-direction: column;z-index: 1;position: relative;background-color: white;}#sk-container-id-3 div.sk-parallel-item:first-child::after {align-self: flex-end;width: 50%;}#sk-container-id-3 div.sk-parallel-item:last-child::after {align-self: flex-start;width: 50%;}#sk-container-id-3 div.sk-parallel-item:only-child::after {width: 0;}#sk-container-id-3 div.sk-dashed-wrapped {border: 1px dashed gray;margin: 0 0.4em 0.5em 0.4em;box-sizing: border-box;padding-bottom: 0.4em;background-color: white;}#sk-container-id-3 div.sk-label label {font-family: monospace;font-weight: bold;display: inline-block;line-height: 1.2em;}#sk-container-id-3 div.sk-label-container {text-align: center;}#sk-container-id-3 div.sk-container {/* jupyter's `normalize.less` sets `[hidden] { display: none; }` but bootstrap.min.css set `[hidden] { display: none !important; }` so we also need the `!important` here to be able to override the default hidden behavior on the sphinx rendered scikit-learn.org. See: https://github.com/scikit-learn/scikit-learn/issues/21755 */display: inline-block !important;position: relative;}#sk-container-id-3 div.sk-text-repr-fallback {display: none;}</style><div id=\"sk-container-id-3\" class=\"sk-top-container\"><div class=\"sk-text-repr-fallback\"><pre>RandomForestClassifier(criterion=&#x27;entropy&#x27;, n_estimators=300)</pre><b>In a Jupyter environment, please rerun this cell to show the HTML representation or trust the notebook. <br />On GitHub, the HTML representation is unable to render, please try loading this page with nbviewer.org.</b></div><div class=\"sk-container\" hidden><div class=\"sk-item\"><div class=\"sk-estimator sk-toggleable\"><input class=\"sk-toggleable__control sk-hidden--visually\" id=\"sk-estimator-id-3\" type=\"checkbox\" checked><label for=\"sk-estimator-id-3\" class=\"sk-toggleable__label sk-toggleable__label-arrow\">RandomForestClassifier</label><div class=\"sk-toggleable__content\"><pre>RandomForestClassifier(criterion=&#x27;entropy&#x27;, n_estimators=300)</pre></div></div></div></div></div>"
      ],
      "text/plain": [
       "RandomForestClassifier(criterion='entropy', n_estimators=300)"
      ]
     },
     "execution_count": 20,
     "metadata": {},
     "output_type": "execute_result"
    }
   ],
   "source": [
    "model_rf5 = RandomForestClassifier(**cv.best_params_)\n",
    "model_rf5.fit(X_train, y_train)"
   ]
  },
  {
   "cell_type": "markdown",
   "id": "bf705acf",
   "metadata": {},
   "source": [
    "### Evaluation "
   ]
  },
  {
   "cell_type": "code",
   "execution_count": 21,
   "id": "152bc177",
   "metadata": {
    "ExecuteTime": {
     "end_time": "2023-04-21T19:57:44.591061Z",
     "start_time": "2023-04-21T19:57:44.532128Z"
    },
    "scrolled": true
   },
   "outputs": [
    {
     "name": "stdout",
     "output_type": "stream",
     "text": [
      "              precision    recall  f1-score   support\n",
      "\n",
      "           B       0.97      0.95      0.96        75\n",
      "           M       0.90      0.95      0.92        39\n",
      "\n",
      "    accuracy                           0.95       114\n",
      "   macro avg       0.94      0.95      0.94       114\n",
      "weighted avg       0.95      0.95      0.95       114\n",
      "\n",
      "AUC: 0.9476923076923077\n",
      "Accuracy: 0.9473684210526315\n"
     ]
    }
   ],
   "source": [
    "print(classification_report(y_test, model_rf5.predict(X_test), target_names=['B','M']))\n",
    "print(f'AUC: {roc_auc_score(y_test, model_rf5.predict(X_test))}')\n",
    "print(f'Accuracy: {accuracy_score(y_test, model_rf5.predict(X_test))}')"
   ]
  },
  {
   "cell_type": "code",
   "execution_count": 22,
   "id": "c3dee8b7",
   "metadata": {
    "ExecuteTime": {
     "end_time": "2023-04-21T19:59:16.848161Z",
     "start_time": "2023-04-21T19:59:16.547497Z"
    },
    "scrolled": true
   },
   "outputs": [
    {
     "data": {
      "image/png": "[encoded data removed]",
      "text/plain": [
       "<Figure size 800x550 with 2 Axes>"
      ]
     },
     "metadata": {},
     "output_type": "display_data"
    }
   ],
   "source": [
    "# plot confusion matrix\n",
    "y_prev = model_rf5.predict(X_test)\n",
    "conf_mat = confusion_matrix(y_test, y_prev)\n",
    "\n",
    "# plot\n",
    "sns.heatmap(conf_mat, annot=True, cmap='Blues', fmt='g')\n",
    "plt.title('Confusion Matrix')\n",
    "plt.xlabel('Predict')\n",
    "plt.ylabel('Real')\n",
    "plt.show()"
   ]
  },
  {
   "cell_type": "markdown",
   "id": "6bd8d1da",
   "metadata": {
    "heading_collapsed": true
   },
   "source": [
    "### Saving the model\n"
   ]
  },
  {
   "cell_type": "code",
   "execution_count": 23,
   "id": "e59648eb",
   "metadata": {
    "ExecuteTime": {
     "end_time": "2023-04-21T20:07:11.889904Z",
     "start_time": "2023-04-21T20:07:11.722341Z"
    },
    "hidden": true
   },
   "outputs": [
    {
     "data": {
      "text/plain": [
       "['../models/model_rf5_final.pkl']"
      ]
     },
     "execution_count": 23,
     "metadata": {},
     "output_type": "execute_result"
    }
   ],
   "source": [
    "joblib.dump(model_rf3, '../models/model_rf5_final.pkl')"
   ]
  },
  {
   "cell_type": "markdown",
   "id": "8aed7d88",
   "metadata": {},
   "source": [
    "# Conclusion"
   ]
  },
  {
   "cell_type": "markdown",
   "id": "8bb2118c",
   "metadata": {},
   "source": [
    "Nesse caso o modelo que contém todas as caracteristicas/atributos desempenhou melhor em compração ao modelo que foi realizado uma seleção de atributos através da aplicação da técnica RandomForest para seleção dos principais atributos. \n",
    "\n",
    "Esse fator pode ser explicado pois, com a redução de caracteristicas o modelo perde complexidade, ou seja, é exposto a menores informações para o aprendizado de padrões. O método ensemble baggin no caso o RandomForest é um algorimto que pode ajustar facilmente aos dados. \n",
    "\n",
    "Portanto, para este caso, onde o conjunto de dados para treinamento e teste são pequenos, o uso de seleção de variáveis não apresenta ser viável, pois não há uma complexidade que possa provocar um ganho de tempo considerável. E como todas as caracteristicas trouxeram um desempenho melhor sem alterar praticamente nada em tempo de execução, a escolha do modelo com todas as carateristicas é o mais adequado. "
   ]
  },
  {
   "cell_type": "markdown",
   "id": "be0e295d",
   "metadata": {},
   "source": [
    "Esse trabalho teve como objetivo principal a estruturação de um padrão para um projeto de classificação. Dividindo em etapas como o processo de análise exploratória, preparação dos dados, modelagens e avalições dos modelos. Por fim o melhor modelo ficará disponível para o deploy. Para deploy do modelo será realizado um projeto em fastapi para sua implemetnação e disponibilização via web. "
   ]
  }
 ],
 "metadata": {
  "kernelspec": {
   "display_name": "Python 3 (ipykernel)",
   "language": "python",
   "name": "python3"
  },
  "language_info": {
   "codemirror_mode": {
    "name": "ipython",
    "version": 3
   },
   "file_extension": ".py",
   "mimetype": "text/x-python",
   "name": "python",
   "nbconvert_exporter": "python",
   "pygments_lexer": "ipython3",
   "version": "3.9.7"
  }
 },
 "nbformat": 4,
 "nbformat_minor": 5
}
