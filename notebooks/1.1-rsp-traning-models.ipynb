{
 "cells": [
  {
   "attachments": {},
   "cell_type": "markdown",
   "id": "2a3d9c8b",
   "metadata": {},
   "source": [
    "# Traning Models"
   ]
  },
  {
   "cell_type": "code",
   "execution_count": 110,
   "id": "c92c1b5a",
   "metadata": {
    "ExecuteTime": {
     "end_time": "2023-04-21T19:49:21.588887Z",
     "start_time": "2023-04-21T19:49:20.284860Z"
    }
   },
   "outputs": [],
   "source": [
    "# import packages\n",
    "import pandas as pd\n",
    "import numpy as np\n",
    "import matplotlib.pyplot as plt\n",
    "import seaborn as sns\n",
    "import joblib\n",
    "\n",
    "from yellowbrick.classifier import ConfusionMatrix\n",
    "from sklearn.preprocessing import StandardScaler\n",
    "from sklearn.model_selection import train_test_split\n",
    "from sklearn.feature_selection import SelectFromModel\n",
    "from sklearn.metrics import confusion_matrix, classification_report, roc_auc_score, accuracy_score\n",
    "\n",
    "from sklearn.model_selection import GridSearchCV\n",
    "from sklearn.model_selection import cross_val_score, KFold\n",
    "\n",
    "from sklearn.ensemble import RandomForestClassifier\n",
    "from sklearn.naive_bayes import MultinomialNB\n",
    "from sklearn.linear_model import LogisticRegression\n",
    "from sklearn.neighbors import KNeighborsClassifier\n",
    "from sklearn.svm import SVC\n",
    "\n",
    "import xgboost as xgb \n",
    "\n",
    "import warnings\n",
    "warnings.filterwarnings('ignore')"
   ]
  },
  {
   "attachments": {},
   "cell_type": "markdown",
   "id": "a8046d35",
   "metadata": {},
   "source": [
    "## Models Group Alpha -> X_data"
   ]
  },
  {
   "cell_type": "code",
   "execution_count": 111,
   "id": "761df2b7",
   "metadata": {
    "ExecuteTime": {
     "end_time": "2023-04-21T19:49:21.644524Z",
     "start_time": "2023-04-21T19:49:21.591344Z"
    }
   },
   "outputs": [
    {
     "name": "stdout",
     "output_type": "stream",
     "text": [
      " Shape X_train:(455, 30)\n",
      " Shape X_train_feature:(455, 9)\n",
      " Shape y_train: (455,)\n"
     ]
    }
   ],
   "source": [
    "# Import data training and testing\n",
    "X_train = np.loadtxt('../data/processed/X_data/X_train.csv', delimiter=',') \n",
    "X_train_feature = np.loadtxt('../data/processed/X_data/X_train_feature.csv', delimiter=',') \n",
    "y_train = np.loadtxt('../data/processed/y_train.csv', delimiter=',')\n",
    "\n",
    "print(f' Shape X_train:{X_train.shape}\\n', \n",
    "      f'Shape X_train_feature:{X_train_feature.shape}\\n',\n",
    "      f'Shape y_train: {y_train.shape}')"
   ]
  },
  {
   "attachments": {},
   "cell_type": "markdown",
   "id": "32ef962f",
   "metadata": {},
   "source": [
    "### Selecting model\n",
    "Objeticve to this topic are create 5 default models of classifications and using the cross validation to verify the model that have a best AUC and standard deviations for this training data. "
   ]
  },
  {
   "cell_type": "code",
   "execution_count": 112,
   "id": "aad205eb",
   "metadata": {
    "ExecuteTime": {
     "end_time": "2023-04-21T19:49:21.694081Z",
     "start_time": "2023-04-21T19:49:21.645893Z"
    }
   },
   "outputs": [],
   "source": [
    "models = [RandomForestClassifier, \n",
    "          MultinomialNB, \n",
    "          LogisticRegression,\n",
    "          KNeighborsClassifier,\n",
    "          xgb.XGBClassifier,\n",
    "          SVC]"
   ]
  },
  {
   "cell_type": "code",
   "execution_count": 113,
   "id": "3a9804f4",
   "metadata": {
    "ExecuteTime": {
     "end_time": "2023-04-21T19:49:24.289887Z",
     "start_time": "2023-04-21T19:49:21.696278Z"
    }
   },
   "outputs": [],
   "source": [
    "# Function to apply cross-validation: \n",
    "def evaluate_models(models, X_train, y_train):\n",
    "    for model in models:\n",
    "        cls = model()\n",
    "        kfold = KFold(n_splits=10, random_state=42, shuffle=True)\n",
    "        s = cross_val_score(cls, X_train, y_train, scoring='roc_auc', cv=kfold)\n",
    "        print(f\"{model.__name__:22} AUC: \"\n",
    "              f\"{s.mean():.3f} STD: {s.std():.2f}\")\n"
   ]
  },
  {
   "cell_type": "code",
   "execution_count": 114,
   "id": "c2280e52",
   "metadata": {},
   "outputs": [
    {
     "name": "stdout",
     "output_type": "stream",
     "text": [
      "RandomForestClassifier AUC: 0.992 STD: 0.01\n",
      "MultinomialNB          AUC: 0.936 STD: 0.04\n",
      "LogisticRegression     AUC: 0.994 STD: 0.01\n",
      "KNeighborsClassifier   AUC: 0.988 STD: 0.02\n",
      "XGBClassifier          AUC: 0.994 STD: 0.01\n",
      "SVC                    AUC: 0.995 STD: 0.01\n"
     ]
    }
   ],
   "source": [
    "# Apply cross-validationt to X_train: \n",
    "evaluate_models(models, X_train, y_train)"
   ]
  },
  {
   "cell_type": "code",
   "execution_count": 115,
   "id": "2511f731",
   "metadata": {},
   "outputs": [
    {
     "name": "stdout",
     "output_type": "stream",
     "text": [
      "RandomForestClassifier AUC: 0.984 STD: 0.02\n",
      "MultinomialNB          AUC: 0.852 STD: 0.07\n",
      "LogisticRegression     AUC: 0.986 STD: 0.02\n",
      "KNeighborsClassifier   AUC: 0.976 STD: 0.02\n",
      "XGBClassifier          AUC: 0.982 STD: 0.02\n",
      "SVC                    AUC: 0.986 STD: 0.02\n"
     ]
    }
   ],
   "source": [
    "# Apply cross-validationt to X_train: \n",
    "evaluate_models(models, X_train_feature, y_train)"
   ]
  },
  {
   "attachments": {},
   "cell_type": "markdown",
   "id": "8d188f7a",
   "metadata": {},
   "source": [
    "To this both cases with features selections and all features, I'll select the RandonForest, SVC and XGBC to construct and optmize new models. \n",
    "\n",
    "* I'll use GridSearch to construct severals models and select the best params. "
   ]
  },
  {
   "attachments": {},
   "cell_type": "markdown",
   "id": "9e2f3102",
   "metadata": {},
   "source": [
    "### Random Forest"
   ]
  },
  {
   "cell_type": "code",
   "execution_count": 116,
   "id": "6b3cba1a",
   "metadata": {
    "ExecuteTime": {
     "end_time": "2023-04-21T19:49:24.486280Z",
     "start_time": "2023-04-21T19:49:24.292325Z"
    }
   },
   "outputs": [],
   "source": [
    "# Creating a function to train: \n",
    "def train_random_forest(X_train, y_train, model_name):\n",
    "    params = {\n",
    "        'n_estimators': [100, 200, 300],\n",
    "        'criterion': ['gini', 'entropy'],\n",
    "        'max_features': ['sqrt', 'log2']\n",
    "    }\n",
    "\n",
    "    clf = RandomForestClassifier(random_state=40)\n",
    "    clf.fit(X_train, y_train)\n",
    "\n",
    "    cv = GridSearchCV(clf, params, n_jobs=-1, scoring='roc_auc').fit(X_train, y_train)\n",
    "    print(cv.best_params_)\n",
    "    model_alpha_rf = RandomForestClassifier(**cv.best_params_)\n",
    "\n",
    "    model_alpha_rf.fit(X_train, y_train)\n",
    "\n",
    "    # Save model\n",
    "    joblib.dump(model_alpha_rf, '../models/'+model_name+'.pkl')\n",
    "    print('Model Saved: ../models/'+model_name+'.pkl')\n"
   ]
  },
  {
   "cell_type": "code",
   "execution_count": 117,
   "id": "62efa780",
   "metadata": {},
   "outputs": [
    {
     "name": "stdout",
     "output_type": "stream",
     "text": [
      "{'criterion': 'gini', 'max_features': 'log2', 'n_estimators': 200}\n",
      "Model Saved: ../models/model_alpha_rf.pkl\n"
     ]
    }
   ],
   "source": [
    "# Training with all features X_train: \n",
    "train_random_forest(X_train, y_train,'model_alpha_rf')"
   ]
  },
  {
   "cell_type": "code",
   "execution_count": 118,
   "id": "f499f527",
   "metadata": {},
   "outputs": [
    {
     "name": "stdout",
     "output_type": "stream",
     "text": [
      "{'criterion': 'entropy', 'max_features': 'sqrt', 'n_estimators': 100}\n",
      "Model Saved: ../models/model_alpha_rf_feature.pkl\n"
     ]
    }
   ],
   "source": [
    "# Training with features selected X_train_features:\n",
    "train_random_forest(X_train_feature, y_train,'model_alpha_rf_feature')"
   ]
  },
  {
   "attachments": {},
   "cell_type": "markdown",
   "id": "323cf54b",
   "metadata": {
    "ExecuteTime": {
     "end_time": "2023-04-21T19:49:32.107694Z",
     "start_time": "2023-04-21T19:49:31.948965Z"
    }
   },
   "source": [
    "### XGBoost Classifier"
   ]
  },
  {
   "cell_type": "code",
   "execution_count": 119,
   "id": "d5a6bf58",
   "metadata": {},
   "outputs": [],
   "source": [
    "# Creating a function to train: \n",
    "def train_xgboostclf(X_train, y_train, model_name):\n",
    "    params = {\n",
    "        'n_estimators': [50, 100, 150],\n",
    "        'learning_rate': [0.1, 0.01, 0.001],\n",
    "        'max_depth': [3, 5, 7],\n",
    "        'subsample': [0.5, 0.75, 1.0]\n",
    "        }\n",
    "\n",
    "    clf = xgb.XGBClassifier()\n",
    "    clf.fit(X_train, y_train)\n",
    "\n",
    "    cv = GridSearchCV(clf, params, n_jobs=-1, scoring='roc_auc').fit(X_train, y_train)\n",
    "    print(cv.best_params_)\n",
    "    model = xgb.XGBClassifier(**cv.best_params_)\n",
    "\n",
    "    model.fit(X_train, y_train)\n",
    "\n",
    "    # Save model\n",
    "    joblib.dump(model, '../models/'+model_name+'.pkl')\n",
    "    print('Model Saved: ../models/'+model_name+'.pkl')"
   ]
  },
  {
   "cell_type": "code",
   "execution_count": 120,
   "id": "30349d29",
   "metadata": {},
   "outputs": [
    {
     "name": "stdout",
     "output_type": "stream",
     "text": [
      "{'learning_rate': 0.1, 'max_depth': 5, 'n_estimators': 150, 'subsample': 0.5}\n",
      "Model Saved: ../models/model_alpha_xgb.pkl\n"
     ]
    }
   ],
   "source": [
    "# Training with all features X_train: \n",
    "train_xgboostclf(X_train, y_train,'model_alpha_xgb')"
   ]
  },
  {
   "cell_type": "code",
   "execution_count": 121,
   "id": "11a4ff3a",
   "metadata": {},
   "outputs": [
    {
     "name": "stdout",
     "output_type": "stream",
     "text": [
      "{'learning_rate': 0.001, 'max_depth': 3, 'n_estimators': 150, 'subsample': 0.5}\n",
      "Model Saved: ../models/model_alpha_xgb_feature.pkl\n"
     ]
    }
   ],
   "source": [
    "# Training with all features X_train_feature: \n",
    "train_xgboostclf(X_train_feature, y_train,'model_alpha_xgb_feature')"
   ]
  },
  {
   "attachments": {},
   "cell_type": "markdown",
   "id": "9ef87318",
   "metadata": {},
   "source": [
    "### SCV Classifier"
   ]
  },
  {
   "cell_type": "code",
   "execution_count": 122,
   "id": "6c00e4d5",
   "metadata": {},
   "outputs": [],
   "source": [
    "# Creating a function to train: \n",
    "def train_SCV(X_train, y_train, model_name):\n",
    "    params = {\n",
    "        'C': [0.1, 1, 10],\n",
    "        'kernel': ['linear', 'poly', 'rbf'],\n",
    "        'degree': [2, 3, 4],\n",
    "        }\n",
    "\n",
    "    clf = SVC()\n",
    "    clf.fit(X_train, y_train)\n",
    "\n",
    "    cv = GridSearchCV(clf, params, n_jobs=-1, scoring='roc_auc').fit(X_train, y_train)\n",
    "    print(cv.best_params_)\n",
    "    model = xgb.XGBClassifier(**cv.best_params_)\n",
    "\n",
    "    model.fit(X_train, y_train)\n",
    "\n",
    "    # Save model\n",
    "    joblib.dump(model, '../models/'+model_name+'.pkl')\n",
    "    print('Model Saved: ../models/'+model_name+'.pkl')"
   ]
  },
  {
   "cell_type": "code",
   "execution_count": 123,
   "id": "4235fbdc",
   "metadata": {},
   "outputs": [
    {
     "name": "stdout",
     "output_type": "stream",
     "text": [
      "{'C': 10, 'degree': 2, 'kernel': 'rbf'}\n",
      "[14:15:43] WARNING: ../src/learner.cc:767: \n",
      "Parameters: { \"C\", \"degree\", \"kernel\" } are not used.\n",
      "\n",
      "Model Saved: ../models/model_alpha_svc.pkl\n"
     ]
    }
   ],
   "source": [
    "# Training with all features X_train: \n",
    "train_SCV(X_train, y_train,'model_alpha_svc')"
   ]
  },
  {
   "cell_type": "code",
   "execution_count": 124,
   "id": "0644a2d9",
   "metadata": {},
   "outputs": [
    {
     "name": "stdout",
     "output_type": "stream",
     "text": [
      "{'C': 10, 'degree': 2, 'kernel': 'rbf'}\n",
      "[14:15:44] WARNING: ../src/learner.cc:767: \n",
      "Parameters: { \"C\", \"degree\", \"kernel\" } are not used.\n",
      "\n",
      "Model Saved: ../models/model_alpha_svc_feature.pkl\n"
     ]
    }
   ],
   "source": [
    "# Training with selected features X_train_feature: \n",
    "train_SCV(X_train, y_train,'model_alpha_svc_feature')"
   ]
  },
  {
   "attachments": {},
   "cell_type": "markdown",
   "id": "2cd93f4d",
   "metadata": {},
   "source": [
    "## Models Group Beta -> X_data2"
   ]
  },
  {
   "cell_type": "code",
   "execution_count": 125,
   "id": "ffd11b3a",
   "metadata": {},
   "outputs": [
    {
     "name": "stdout",
     "output_type": "stream",
     "text": [
      " Shape X_train:(455, 24)\n",
      " Shape X_train_feature:(455, 7)\n",
      " Shape y_train: (455,)\n"
     ]
    }
   ],
   "source": [
    "# Import data training and testing\n",
    "X_train2 = np.loadtxt('../data/processed/X_data2/X_train2.csv', delimiter=',') \n",
    "X_train2_feature = np.loadtxt('../data/processed/X_data2/X_train2_features.csv', delimiter=',') \n",
    "y_train = np.loadtxt('../data/processed/y_train.csv', delimiter=',')\n",
    "\n",
    "print(f' Shape X_train:{X_train2.shape}\\n', \n",
    "      f'Shape X_train_feature:{X_train2_feature.shape}\\n',\n",
    "      f'Shape y_train: {y_train.shape}')"
   ]
  },
  {
   "cell_type": "code",
   "execution_count": 126,
   "id": "61396f0a",
   "metadata": {},
   "outputs": [
    {
     "name": "stdout",
     "output_type": "stream",
     "text": [
      "RandomForestClassifier AUC: 0.994 STD: 0.01\n",
      "MultinomialNB          AUC: 0.962 STD: 0.03\n",
      "LogisticRegression     AUC: 0.988 STD: 0.02\n",
      "KNeighborsClassifier   AUC: 0.979 STD: 0.03\n",
      "XGBClassifier          AUC: 0.995 STD: 0.01\n",
      "SVC                    AUC: 0.994 STD: 0.01\n"
     ]
    }
   ],
   "source": [
    "# to X_data2 all features\n",
    "evaluate_models(models,X_train2, y_train)"
   ]
  },
  {
   "cell_type": "code",
   "execution_count": 127,
   "id": "7a16ad52",
   "metadata": {},
   "outputs": [
    {
     "name": "stdout",
     "output_type": "stream",
     "text": [
      "RandomForestClassifier AUC: 0.991 STD: 0.01\n",
      "MultinomialNB          AUC: 0.736 STD: 0.10\n",
      "LogisticRegression     AUC: 0.973 STD: 0.04\n",
      "KNeighborsClassifier   AUC: 0.967 STD: 0.04\n",
      "XGBClassifier          AUC: 0.988 STD: 0.01\n",
      "SVC                    AUC: 0.985 STD: 0.02\n"
     ]
    }
   ],
   "source": [
    "# to X_data2 with seletec features\n",
    "evaluate_models(models,X_train2_feature, y_train)"
   ]
  },
  {
   "attachments": {},
   "cell_type": "markdown",
   "id": "3ab20465",
   "metadata": {},
   "source": [
    "### RandomForest"
   ]
  },
  {
   "cell_type": "code",
   "execution_count": 128,
   "id": "13cee07f",
   "metadata": {},
   "outputs": [
    {
     "name": "stdout",
     "output_type": "stream",
     "text": [
      "{'criterion': 'entropy', 'max_features': 'sqrt', 'n_estimators': 100}\n",
      "Model Saved: ../models/model_beta_rf.pkl\n"
     ]
    }
   ],
   "source": [
    "# To all features\n",
    "train_random_forest(X_train2,y_train,'model_beta_rf')"
   ]
  },
  {
   "cell_type": "code",
   "execution_count": 129,
   "id": "b649bd79",
   "metadata": {},
   "outputs": [
    {
     "name": "stdout",
     "output_type": "stream",
     "text": [
      "{'criterion': 'gini', 'max_features': 'sqrt', 'n_estimators': 200}\n",
      "Model Saved: ../models/model_beta_rf_features.pkl\n"
     ]
    }
   ],
   "source": [
    "# To seletec features\n",
    "train_random_forest(X_train2_feature,y_train,'model_beta_rf_features')"
   ]
  },
  {
   "attachments": {},
   "cell_type": "markdown",
   "id": "e8562b96",
   "metadata": {},
   "source": [
    "### XGBOOSTCV"
   ]
  },
  {
   "cell_type": "code",
   "execution_count": 130,
   "id": "2f446cef",
   "metadata": {},
   "outputs": [
    {
     "name": "stdout",
     "output_type": "stream",
     "text": [
      "{'learning_rate': 0.1, 'max_depth': 5, 'n_estimators': 150, 'subsample': 0.5}\n",
      "Model Saved: ../models/model_beta_xgb.pkl\n"
     ]
    }
   ],
   "source": [
    "# To all features\n",
    "train_xgboostclf(X_train2,y_train,'model_beta_xgb')"
   ]
  },
  {
   "cell_type": "code",
   "execution_count": 131,
   "id": "6d1ea82b",
   "metadata": {},
   "outputs": [
    {
     "name": "stdout",
     "output_type": "stream",
     "text": [
      "{'learning_rate': 0.1, 'max_depth': 3, 'n_estimators': 100, 'subsample': 0.5}\n",
      "Model Saved: ../models/model_beta_xgb_feature.pkl\n"
     ]
    }
   ],
   "source": [
    "# To select features\n",
    "train_xgboostclf(X_train2_feature,y_train,'model_beta_xgb_feature')"
   ]
  },
  {
   "attachments": {},
   "cell_type": "markdown",
   "id": "0fb379b1",
   "metadata": {},
   "source": [
    "### SCV "
   ]
  },
  {
   "cell_type": "code",
   "execution_count": 132,
   "id": "5206fc60",
   "metadata": {},
   "outputs": [
    {
     "name": "stdout",
     "output_type": "stream",
     "text": [
      "{'C': 10, 'degree': 2, 'kernel': 'rbf'}\n",
      "[14:16:18] WARNING: ../src/learner.cc:767: \n",
      "Parameters: { \"C\", \"degree\", \"kernel\" } are not used.\n",
      "\n",
      "Model Saved: ../models/model_beta_svc.pkl\n"
     ]
    }
   ],
   "source": [
    "# To all features\n",
    "train_SCV(X_train2, y_train, 'model_beta_svc')"
   ]
  },
  {
   "cell_type": "code",
   "execution_count": 133,
   "id": "5165112e",
   "metadata": {},
   "outputs": [
    {
     "name": "stdout",
     "output_type": "stream",
     "text": [
      "{'C': 10, 'degree': 2, 'kernel': 'rbf'}\n",
      "[14:16:18] WARNING: ../src/learner.cc:767: \n",
      "Parameters: { \"C\", \"degree\", \"kernel\" } are not used.\n",
      "\n",
      "Model Saved: ../models/model_beta_svc_feature.pkl\n"
     ]
    }
   ],
   "source": [
    "# To selected features\n",
    "train_SCV(X_train2_feature, y_train, 'model_beta_svc_feature')"
   ]
  }
 ],
 "metadata": {
  "kernelspec": {
   "display_name": "Python 3 (ipykernel)",
   "language": "python",
   "name": "python3"
  },
  "language_info": {
   "codemirror_mode": {
    "name": "ipython",
    "version": 3
   },
   "file_extension": ".py",
   "mimetype": "text/x-python",
   "name": "python",
   "nbconvert_exporter": "python",
   "pygments_lexer": "ipython3",
   "version": "3.9.7"
  }
 },
 "nbformat": 4,
 "nbformat_minor": 5
}
